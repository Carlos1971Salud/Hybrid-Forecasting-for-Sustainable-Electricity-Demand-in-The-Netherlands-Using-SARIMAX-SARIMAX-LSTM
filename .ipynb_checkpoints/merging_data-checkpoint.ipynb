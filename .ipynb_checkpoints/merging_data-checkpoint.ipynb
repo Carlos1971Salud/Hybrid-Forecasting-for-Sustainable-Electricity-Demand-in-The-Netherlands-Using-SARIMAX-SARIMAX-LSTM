{
 "cells": [
  {
   "cell_type": "markdown",
   "id": "d1b31556",
   "metadata": {},
   "source": [
    "# Data Preparation and Merging Pipeline"
   ]
  },
  {
   "cell_type": "markdown",
   "id": "05aaabc4",
   "metadata": {},
   "source": [
    "## Step 1: Load Libraries and Data"
   ]
  },
  {
   "cell_type": "code",
   "execution_count": null,
   "id": "d461538f",
   "metadata": {},
   "outputs": [],
   "source": [
    "\n",
    "import pandas as pd\n",
    "import numpy as np\n",
    "\n",
    "# Load datasets\n",
    "weather = pd.read_csv(\"/mnt/data/weather.csv\")\n",
    "yearlyFinalConsPerSource = pd.read_csv(\"/mnt/data/yearlyfinalConsPerSource.csv\")\n",
    "elecBalance = pd.read_csv(\"/mnt/data/elecBalance.csv\")\n",
    "energyPrice = pd.read_csv(\"/mnt/data/energyPrice.csv\")\n",
    "GDP = pd.read_csv(\"/mnt/data/GDP.csv\")\n",
    "populationNL = pd.read_csv(\"/mnt/data/populationNL.csv\")\n",
    "renewableEnergy = pd.read_csv(\"/mnt/data/renwableEnergy.csv\")\n",
    "nao = pd.read_csv(\"/mnt/data/nao.csv\")\n"
   ]
  },
  {
   "cell_type": "markdown",
   "id": "a4bf37e1",
   "metadata": {},
   "source": [
    "## Step 2: Preprocess Data"
   ]
  },
  {
   "cell_type": "markdown",
   "id": "d051262a",
   "metadata": {},
   "source": [
    "### 2.1 Transform Hourly Data to Daily Data"
   ]
  },
  {
   "cell_type": "code",
   "execution_count": null,
   "id": "a2a10b0a",
   "metadata": {},
   "outputs": [],
   "source": [
    "\n",
    "# Convert hourly weather data to daily data by aggregating (sum)\n",
    "weather['Date'] = pd.to_datetime(weather['Date'])\n",
    "daily_weather = weather.groupby(weather['Date'].dt.date).sum().reset_index()\n",
    "daily_weather.rename(columns={'index': 'Date'}, inplace=True)\n"
   ]
  },
  {
   "cell_type": "markdown",
   "id": "5126aaa2",
   "metadata": {},
   "source": [
    "### 2.2 Standardize Yearly Data"
   ]
  },
  {
   "cell_type": "code",
   "execution_count": null,
   "id": "ab33251e",
   "metadata": {},
   "outputs": [],
   "source": [
    "\n",
    "# Ensure Year column is an integer\n",
    "datasets_yearly = [yearlyFinalConsPerSource, elecBalance, energyPrice, GDP, populationNL, renewableEnergy]\n",
    "for dataset in datasets_yearly:\n",
    "    dataset['Year'] = dataset['Year'].astype(int)\n"
   ]
  },
  {
   "cell_type": "markdown",
   "id": "00f6a9fb",
   "metadata": {},
   "source": [
    "## Step 3: Merge Datasets"
   ]
  },
  {
   "cell_type": "markdown",
   "id": "a15d7d81",
   "metadata": {},
   "source": [
    "### 3.1 Merge Daily Datasets"
   ]
  },
  {
   "cell_type": "code",
   "execution_count": null,
   "id": "f32ccfde",
   "metadata": {},
   "outputs": [],
   "source": [
    "\n",
    "# Merge daily_weather with load consumption (example placeholder)\n",
    "# daily_data = pd.merge(daily_weather, load_consumption, on='Date', how='inner')\n"
   ]
  },
  {
   "cell_type": "markdown",
   "id": "1f8e0698",
   "metadata": {},
   "source": [
    "### 3.2 Merge Yearly Datasets"
   ]
  },
  {
   "cell_type": "code",
   "execution_count": null,
   "id": "717475db",
   "metadata": {},
   "outputs": [],
   "source": [
    "\n",
    "# Merge yearly datasets on Year\n",
    "yearly_data = GDP.merge(renewableEnergy, on='Year', how='outer')\n",
    "yearly_data = yearly_data.merge(populationNL, on='Year', how='outer')\n",
    "yearly_data = yearly_data.merge(yearlyFinalConsPerSource, on='Year', how='outer')\n",
    "yearly_data = yearly_data.merge(energyPrice, on='Year', how='outer')\n"
   ]
  },
  {
   "cell_type": "markdown",
   "id": "c64ce332",
   "metadata": {},
   "source": [
    "### 3.3 Upsample Yearly Data to Daily Data"
   ]
  },
  {
   "cell_type": "code",
   "execution_count": null,
   "id": "286c99b3",
   "metadata": {},
   "outputs": [],
   "source": [
    "\n",
    "# Convert Yearly data to daily frequency\n",
    "yearly_data['Date'] = pd.to_datetime(yearly_data['Year'], format='%Y')  # Create a date column from Year\n",
    "daily_from_yearly = yearly_data.set_index('Date').resample('D').ffill().reset_index()\n"
   ]
  },
  {
   "cell_type": "markdown",
   "id": "b0c2d8a7",
   "metadata": {},
   "source": [
    "### 3.4 Combine Daily and Upsampled Yearly Data"
   ]
  },
  {
   "cell_type": "code",
   "execution_count": null,
   "id": "8495f028",
   "metadata": {},
   "outputs": [],
   "source": [
    "\n",
    "# Merge daily data with upsampled yearly data\n",
    "final_data = pd.merge(daily_weather, daily_from_yearly, on='Date', how='inner')\n"
   ]
  },
  {
   "cell_type": "markdown",
   "id": "a895a64c",
   "metadata": {},
   "source": [
    "## Step 4: Validation and Optimization"
   ]
  },
  {
   "cell_type": "code",
   "execution_count": null,
   "id": "6bcdd561",
   "metadata": {},
   "outputs": [],
   "source": [
    "\n",
    "# Check final data structure and ensure no missing or duplicate values\n",
    "print(final_data.info())\n",
    "print(final_data.head())\n",
    "\n",
    "# Save the final dataset\n",
    "final_data.to_csv(\"/mnt/data/final_dataset.csv\", index=False)\n"
   ]
  }
 ],
 "metadata": {},
 "nbformat": 4,
 "nbformat_minor": 5
}