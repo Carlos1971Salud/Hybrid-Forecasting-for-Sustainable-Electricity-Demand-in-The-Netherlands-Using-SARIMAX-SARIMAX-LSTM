{
 "cells": [
  {
   "cell_type": "code",
   "execution_count": 1,
   "id": "4afe9710-db82-4790-af08-94476b2cf241",
   "metadata": {},
   "outputs": [],
   "source": [
    "import pandas as pd\n",
    "import numpy as np\n",
    "import matplotlib.pyplot as plt\n",
    "import seaborn as sns\n",
    "from sklearn.model_selection import train_test_split, TimeSeriesSplit\n",
    "from sklearn.preprocessing import StandardScaler\n",
    "from sklearn.ensemble import RandomForestRegressor, VotingRegressor\n",
    "from sklearn.metrics import mean_absolute_error, mean_squared_error, r2_score\n",
    "from xgboost import XGBRegressor\n",
    "import tensorflow as tf\n",
    "from tensorflow.keras.models import Sequential\n",
    "from tensorflow.keras.layers import LSTM, Dense, Dropout\n",
    "from tensorflow.keras.optimizers import Adam\n",
    "\n",
    "import statsmodels.api as sm\n",
    "\n"
   ]
  },
  {
   "cell_type": "code",
   "execution_count": 2,
   "id": "71b5d11c-3ace-469f-b3a3-ab4b505d40f2",
   "metadata": {},
   "outputs": [],
   "source": [
    "# Load Data\n",
    "\n",
    "daily_data = pd.read_csv(\"merged_data_granualityBased/daily_merged_data.csv\")\n",
    "monthly_data = pd.read_csv(\"merged_data_granualityBased/merged_monthyl_data.csv\")\n",
    "yearly_data = pd.read_csv(\"merged_data_granualityBased/merged_Yearly_data.csv\")\n"
   ]
  },
  {
   "cell_type": "code",
   "execution_count": 3,
   "id": "22e0e49e-e427-402e-990e-c5323dd2c14a",
   "metadata": {},
   "outputs": [],
   "source": [
    "# Convert datetime columns\n",
    "daily_data[\"date\"] = pd.to_datetime(daily_data[\"date\"])\n",
    "\n",
    "daily_data.set_index(\"date\", inplace=True)"
   ]
  },
  {
   "cell_type": "code",
   "execution_count": 4,
   "id": "cb2e5ddd-f908-403a-8a72-92220ab119bd",
   "metadata": {},
   "outputs": [],
   "source": [
    "# Ensure numerical columns are correctly formatted\n",
    "yearly_data[\"Population\"] = yearly_data[\"Population\"].str.replace(',', '').astype(float)"
   ]
  },
  {
   "cell_type": "code",
   "execution_count": 5,
   "id": "1d9dbc16-9ccd-4903-8c77-499a57da0278",
   "metadata": {},
   "outputs": [
    {
     "name": "stderr",
     "output_type": "stream",
     "text": [
      "C:\\Users\\mahmo\\AppData\\Local\\Programs\\Python\\Python311\\Lib\\site-packages\\statsmodels\\tsa\\statespace\\sarimax.py:866: UserWarning: Too few observations to estimate starting parameters for seasonal ARMA. All parameters except for variances will be set to zeros.\n",
      "  warn('Too few observations to estimate starting parameters%s.'\n"
     ]
    }
   ],
   "source": [
    "# Define the target variable\n",
    "target_variable = 'loadConsumption'\n",
    "\n",
    "# Define exogenous variables (features affecting energy demand)\n",
    "exog_variables = ['Population', 'TotalSolarEnergy (MWh)', 'Totaal windenergie (MWh)',\n",
    "                  'AveragePrice_Electricity_NonHousehold', 'AveragePrice_Electricity_Household']\n",
    "\n",
    "# Split into train-test sets (use last two years for validation)\n",
    "train_data = yearly_data.iloc[:-4]\n",
    "test_data = yearly_data.iloc[-4:]\n",
    "\n",
    "# Fit SARIMAX model\n",
    "sarimax_model = sm.tsa.statespace.SARIMAX(train_data[target_variable],\n",
    "                                          exog=train_data[exog_variables],\n",
    "                                          order=(1,1,1),  # ARIMA parameters (p,d,q)\n",
    "                                          seasonal_order=(1,1,1,5),  # Seasonal parameters (P,D,Q,s)\n",
    "                                          enforce_stationarity=False,\n",
    "                                          enforce_invertibility=False)\n",
    "\n",
    "sarimax_results = sarimax_model.fit()\n"
   ]
  },
  {
   "cell_type": "code",
   "execution_count": 7,
   "id": "f4c20d68-defe-40d2-b2fe-467ea56883eb",
   "metadata": {},
   "outputs": [],
   "source": [
    "# Forecast future yearly demand\n",
    "future_exog = test_data[exog_variables]  # Exogenous variables for future years\n",
    "yearly_predictions = sarimax_results.predict(start=len(train_data), \n",
    "                                             end=len(train_data) + len(test_data) - 1, \n",
    "                                             exog=future_exog)\n",
    "\n",
    "# Store predictions for use in monthly model\n",
    "yearly_data.loc[test_data.index, 'Predicted_Yearly_Demand'] = yearly_predictions\n"
   ]
  },
  {
   "cell_type": "code",
   "execution_count": 8,
   "id": "8606a6fb-8fc3-485d-bd7f-a9cc5fae8fce",
   "metadata": {},
   "outputs": [],
   "source": [
    "from sklearn.metrics import mean_absolute_error, mean_squared_error, r2_score\n",
    "\n",
    "# Extract actual and predicted values for evaluation\n",
    "actual_values = test_data[target_variable].dropna()\n",
    "predicted_values = yearly_predictions.loc[actual_values.index]  # Align index\n",
    "\n",
    "# Calculate evaluation metrics\n",
    "mae = mean_absolute_error(actual_values, predicted_values)\n",
    "mse = mean_squared_error(actual_values, predicted_values)\n",
    "r2 = r2_score(actual_values, predicted_values)\n",
    "mape = (abs(actual_values - predicted_values) / actual_values).mean() * 100\n",
    "\n",
    "# Create a dataframe to display results\n",
    "metrics_df = pd.DataFrame({\n",
    "    \"Metric\": [\"MAE\", \"MSE\", \"R² Score\", \"MAPE (%)\"],\n",
    "    \"Value\": [mae, mse, r2, mape]\n",
    "})\n",
    "\n"
   ]
  },
  {
   "cell_type": "code",
   "execution_count": 9,
   "id": "f4db439a-7ea5-4004-84c5-b043f6af661e",
   "metadata": {},
   "outputs": [
    {
     "data": {
      "text/html": [
       "<div>\n",
       "<style scoped>\n",
       "    .dataframe tbody tr th:only-of-type {\n",
       "        vertical-align: middle;\n",
       "    }\n",
       "\n",
       "    .dataframe tbody tr th {\n",
       "        vertical-align: top;\n",
       "    }\n",
       "\n",
       "    .dataframe thead th {\n",
       "        text-align: right;\n",
       "    }\n",
       "</style>\n",
       "<table border=\"1\" class=\"dataframe\">\n",
       "  <thead>\n",
       "    <tr style=\"text-align: right;\">\n",
       "      <th></th>\n",
       "      <th>Metric</th>\n",
       "      <th>Value</th>\n",
       "    </tr>\n",
       "  </thead>\n",
       "  <tbody>\n",
       "    <tr>\n",
       "      <th>0</th>\n",
       "      <td>MAE</td>\n",
       "      <td>3.199949e+06</td>\n",
       "    </tr>\n",
       "    <tr>\n",
       "      <th>1</th>\n",
       "      <td>MSE</td>\n",
       "      <td>1.907744e+13</td>\n",
       "    </tr>\n",
       "    <tr>\n",
       "      <th>2</th>\n",
       "      <td>R² Score</td>\n",
       "      <td>-1.826509e+00</td>\n",
       "    </tr>\n",
       "    <tr>\n",
       "      <th>3</th>\n",
       "      <td>MAPE (%)</td>\n",
       "      <td>3.184572e+00</td>\n",
       "    </tr>\n",
       "  </tbody>\n",
       "</table>\n",
       "</div>"
      ],
      "text/plain": [
       "     Metric         Value\n",
       "0       MAE  3.199949e+06\n",
       "1       MSE  1.907744e+13\n",
       "2  R² Score -1.826509e+00\n",
       "3  MAPE (%)  3.184572e+00"
      ]
     },
     "execution_count": 9,
     "metadata": {},
     "output_type": "execute_result"
    }
   ],
   "source": [
    "metrics_df"
   ]
  },
  {
   "cell_type": "code",
   "execution_count": null,
   "id": "16de72c4-d837-4fec-8afe-562753c452ee",
   "metadata": {},
   "outputs": [],
   "source": []
  }
 ],
 "metadata": {
  "kernelspec": {
   "display_name": "Python 3 (ipykernel)",
   "language": "python",
   "name": "python3"
  },
  "language_info": {
   "codemirror_mode": {
    "name": "ipython",
    "version": 3
   },
   "file_extension": ".py",
   "mimetype": "text/x-python",
   "name": "python",
   "nbconvert_exporter": "python",
   "pygments_lexer": "ipython3",
   "version": "3.11.5"
  }
 },
 "nbformat": 4,
 "nbformat_minor": 5
}
