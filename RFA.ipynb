{
 "cells": [
  {
   "cell_type": "code",
   "execution_count": 13,
   "id": "c48476ac-2822-4d7f-a453-77abac2ad5ff",
   "metadata": {},
   "outputs": [],
   "source": [
    "import pandas as pd"
   ]
  },
  {
   "cell_type": "code",
   "execution_count": 14,
   "id": "a13cf999-ff0d-4c7d-8d50-7f87d5c8914d",
   "metadata": {},
   "outputs": [],
   "source": [
    "# Reload all the provided datasets\n",
    "file_paths = {\n",
    "    \"data_2006_2023\": \"processed_data/data_2006_2023.csv\",\n",
    "    \"elecBalance\": \"processed_data/elecBalance.csv\",\n",
    "    \"ElecSupConsMonthly\": \"processed_data/ElecSupConsMonthly.csv\",\n",
    "    \"energyPrice\": \"processed_data/energyPrice.csv\",\n",
    "    \"GDP\": \"processed_data/GDP.csv\",\n",
    "    \"nao\": \"processed_data/nao.csv\",\n",
    "    \"populationNL\": \"processed_data/populationNL.csv\",\n",
    "    \"renewableEnergy\": \"processed_data/renwableEnergy.csv\",\n",
    "    \"residentialEnergy\": \"processed_data/resedentialEnergyData(Provincies).csv\",\n",
    "    \"weather\": \"processed_data/weather.csv\"\n",
    "}\n",
    "\n",
    "# Read datasets into pandas DataFrames\n",
    "dataframes = {name: pd.read_csv(path) for name, path in file_paths.items()}\n"
   ]
  },
  {
   "cell_type": "code",
   "execution_count": 15,
   "id": "34e96e8c-4ec8-4bac-842d-cf9f55f7f768",
   "metadata": {},
   "outputs": [
    {
     "data": {
      "text/plain": [
       "{'data_2006_2023': dtype('int64'),\n",
       " 'elecBalance': dtype('int64'),\n",
       " 'ElecSupConsMonthly': dtype('int64'),\n",
       " 'energyPrice': dtype('int64'),\n",
       " 'GDP': dtype('int64'),\n",
       " 'nao': dtype('int64'),\n",
       " 'populationNL': dtype('int64'),\n",
       " 'renewableEnergy': dtype('int64'),\n",
       " 'residentialEnergy': dtype('int64'),\n",
       " 'weather': dtype('int64')}"
      ]
     },
     "execution_count": 15,
     "metadata": {},
     "output_type": "execute_result"
    }
   ],
   "source": [
    "# Check the data types of the \"Year\" column in each dataset\n",
    "year_column_types = {name: df[\"Year\"].dtype if \"Year\" in df.columns else \"Missing\" for name, df in dataframes.items()}\n",
    "year_column_types\n"
   ]
  },
  {
   "cell_type": "code",
   "execution_count": 16,
   "id": "e9fbd774-b7aa-4aae-a6e5-b2f5766cc6d0",
   "metadata": {},
   "outputs": [],
   "source": [
    "dataframes[\"energyPrice\"][\"Year\"] = dataframes[\"energyPrice\"][\"Year\"].astype(\"int64\")"
   ]
  },
  {
   "cell_type": "code",
   "execution_count": null,
   "id": "5473ff19-9024-4350-aa29-95aaa798bd81",
   "metadata": {},
   "outputs": [],
   "source": []
  }
 ],
 "metadata": {
  "kernelspec": {
   "display_name": "Python 3 (ipykernel)",
   "language": "python",
   "name": "python3"
  },
  "language_info": {
   "codemirror_mode": {
    "name": "ipython",
    "version": 3
   },
   "file_extension": ".py",
   "mimetype": "text/x-python",
   "name": "python",
   "nbconvert_exporter": "python",
   "pygments_lexer": "ipython3",
   "version": "3.11.5"
  }
 },
 "nbformat": 4,
 "nbformat_minor": 5
}
