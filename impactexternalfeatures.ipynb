{
 "cells": [
  {
   "cell_type": "code",
   "execution_count": 1,
   "id": "19d551ed-8373-4da9-9808-266c506a49fc",
   "metadata": {},
   "outputs": [],
   "source": [
    "import pandas as pd\n",
    "import numpy as np\n",
    "from statsmodels.tsa.statespace.sarimax import SARIMAX\n",
    "from sklearn.metrics import mean_squared_error, mean_absolute_error\n"
   ]
  },
  {
   "cell_type": "code",
   "execution_count": 2,
   "id": "90923666-b0fc-4401-809e-94e3ba28f66d",
   "metadata": {},
   "outputs": [],
   "source": [
    "# Load your datasets\n",
    "main_df = pd.read_csv(\"processed_data/data_2006_2023.csv\")\n",
    "renewable_df = pd.read_csv(\"processed_data/renwableEnergy.csv\")"
   ]
  },
  {
   "cell_type": "code",
   "execution_count": 3,
   "id": "22ff7686-9678-4df4-8409-317371d038cb",
   "metadata": {},
   "outputs": [
    {
     "data": {
      "text/html": [
       "<div>\n",
       "<style scoped>\n",
       "    .dataframe tbody tr th:only-of-type {\n",
       "        vertical-align: middle;\n",
       "    }\n",
       "\n",
       "    .dataframe tbody tr th {\n",
       "        vertical-align: top;\n",
       "    }\n",
       "\n",
       "    .dataframe thead th {\n",
       "        text-align: right;\n",
       "    }\n",
       "</style>\n",
       "<table border=\"1\" class=\"dataframe\">\n",
       "  <thead>\n",
       "    <tr style=\"text-align: right;\">\n",
       "      <th></th>\n",
       "      <th>loadConsumption</th>\n",
       "      <th>date</th>\n",
       "      <th>datetime</th>\n",
       "      <th>Hour</th>\n",
       "      <th>Year</th>\n",
       "    </tr>\n",
       "  </thead>\n",
       "  <tbody>\n",
       "    <tr>\n",
       "      <th>0</th>\n",
       "      <td>10215.0000</td>\n",
       "      <td>2006-01-01</td>\n",
       "      <td>2005-12-31 23:00:00</td>\n",
       "      <td>0</td>\n",
       "      <td>2006</td>\n",
       "    </tr>\n",
       "    <tr>\n",
       "      <th>1</th>\n",
       "      <td>9979.0000</td>\n",
       "      <td>2006-01-01</td>\n",
       "      <td>2006-01-01 00:00:00</td>\n",
       "      <td>1</td>\n",
       "      <td>2006</td>\n",
       "    </tr>\n",
       "    <tr>\n",
       "      <th>2</th>\n",
       "      <td>9460.0000</td>\n",
       "      <td>2006-01-01</td>\n",
       "      <td>2006-01-01 01:00:00</td>\n",
       "      <td>2</td>\n",
       "      <td>2006</td>\n",
       "    </tr>\n",
       "    <tr>\n",
       "      <th>3</th>\n",
       "      <td>8833.0000</td>\n",
       "      <td>2006-01-01</td>\n",
       "      <td>2006-01-01 02:00:00</td>\n",
       "      <td>3</td>\n",
       "      <td>2006</td>\n",
       "    </tr>\n",
       "    <tr>\n",
       "      <th>4</th>\n",
       "      <td>8525.0000</td>\n",
       "      <td>2006-01-01</td>\n",
       "      <td>2006-01-01 03:00:00</td>\n",
       "      <td>4</td>\n",
       "      <td>2006</td>\n",
       "    </tr>\n",
       "    <tr>\n",
       "      <th>...</th>\n",
       "      <td>...</td>\n",
       "      <td>...</td>\n",
       "      <td>...</td>\n",
       "      <td>...</td>\n",
       "      <td>...</td>\n",
       "    </tr>\n",
       "    <tr>\n",
       "      <th>157767</th>\n",
       "      <td>12673.4650</td>\n",
       "      <td>2023-12-31</td>\n",
       "      <td>2023-12-31 19:00:00</td>\n",
       "      <td>20</td>\n",
       "      <td>2023</td>\n",
       "    </tr>\n",
       "    <tr>\n",
       "      <th>157768</th>\n",
       "      <td>12366.1950</td>\n",
       "      <td>2023-12-31</td>\n",
       "      <td>2023-12-31 20:00:00</td>\n",
       "      <td>21</td>\n",
       "      <td>2023</td>\n",
       "    </tr>\n",
       "    <tr>\n",
       "      <th>157769</th>\n",
       "      <td>12143.1775</td>\n",
       "      <td>2023-12-31</td>\n",
       "      <td>2023-12-31 21:00:00</td>\n",
       "      <td>22</td>\n",
       "      <td>2023</td>\n",
       "    </tr>\n",
       "    <tr>\n",
       "      <th>157770</th>\n",
       "      <td>11993.1200</td>\n",
       "      <td>2023-12-31</td>\n",
       "      <td>2023-12-31 22:00:00</td>\n",
       "      <td>23</td>\n",
       "      <td>2023</td>\n",
       "    </tr>\n",
       "    <tr>\n",
       "      <th>157771</th>\n",
       "      <td>11922.8925</td>\n",
       "      <td>2023-12-31</td>\n",
       "      <td>2023-12-31 23:00:00</td>\n",
       "      <td>24</td>\n",
       "      <td>2023</td>\n",
       "    </tr>\n",
       "  </tbody>\n",
       "</table>\n",
       "<p>157772 rows × 5 columns</p>\n",
       "</div>"
      ],
      "text/plain": [
       "        loadConsumption        date             datetime  Hour  Year\n",
       "0            10215.0000  2006-01-01  2005-12-31 23:00:00     0  2006\n",
       "1             9979.0000  2006-01-01  2006-01-01 00:00:00     1  2006\n",
       "2             9460.0000  2006-01-01  2006-01-01 01:00:00     2  2006\n",
       "3             8833.0000  2006-01-01  2006-01-01 02:00:00     3  2006\n",
       "4             8525.0000  2006-01-01  2006-01-01 03:00:00     4  2006\n",
       "...                 ...         ...                  ...   ...   ...\n",
       "157767       12673.4650  2023-12-31  2023-12-31 19:00:00    20  2023\n",
       "157768       12366.1950  2023-12-31  2023-12-31 20:00:00    21  2023\n",
       "157769       12143.1775  2023-12-31  2023-12-31 21:00:00    22  2023\n",
       "157770       11993.1200  2023-12-31  2023-12-31 22:00:00    23  2023\n",
       "157771       11922.8925  2023-12-31  2023-12-31 23:00:00    24  2023\n",
       "\n",
       "[157772 rows x 5 columns]"
      ]
     },
     "execution_count": 3,
     "metadata": {},
     "output_type": "execute_result"
    }
   ],
   "source": [
    "main_df"
   ]
  },
  {
   "cell_type": "code",
   "execution_count": 4,
   "id": "f37bf391-dbbc-4433-9733-69bb10c87a93",
   "metadata": {},
   "outputs": [],
   "source": [
    "main_df[\"datetime\"] = pd.to_datetime(main_df[\"datetime\"])"
   ]
  },
  {
   "cell_type": "code",
   "execution_count": 5,
   "id": "fe31f5da-35a7-43a5-8d86-8b8d48a602de",
   "metadata": {},
   "outputs": [],
   "source": [
    "main_df.set_index(\"datetime\", inplace=True)"
   ]
  },
  {
   "cell_type": "code",
   "execution_count": 6,
   "id": "12172457-862f-4a27-80e1-c764edaa582f",
   "metadata": {},
   "outputs": [],
   "source": [
    "dailyLoad_data = main_df.groupby(\"date\")[\"loadConsumption\"].sum().reset_index()"
   ]
  },
  {
   "cell_type": "code",
   "execution_count": 7,
   "id": "590d2cee-ecb1-4b3c-b6d0-9711cc7d8599",
   "metadata": {
    "scrolled": true
   },
   "outputs": [
    {
     "data": {
      "text/html": [
       "<div>\n",
       "<style scoped>\n",
       "    .dataframe tbody tr th:only-of-type {\n",
       "        vertical-align: middle;\n",
       "    }\n",
       "\n",
       "    .dataframe tbody tr th {\n",
       "        vertical-align: top;\n",
       "    }\n",
       "\n",
       "    .dataframe thead th {\n",
       "        text-align: right;\n",
       "    }\n",
       "</style>\n",
       "<table border=\"1\" class=\"dataframe\">\n",
       "  <thead>\n",
       "    <tr style=\"text-align: right;\">\n",
       "      <th></th>\n",
       "      <th>date</th>\n",
       "      <th>loadConsumption</th>\n",
       "    </tr>\n",
       "  </thead>\n",
       "  <tbody>\n",
       "    <tr>\n",
       "      <th>0</th>\n",
       "      <td>2006-01-01</td>\n",
       "      <td>255022.0000</td>\n",
       "    </tr>\n",
       "    <tr>\n",
       "      <th>1</th>\n",
       "      <td>2006-01-02</td>\n",
       "      <td>314663.0000</td>\n",
       "    </tr>\n",
       "    <tr>\n",
       "      <th>2</th>\n",
       "      <td>2006-01-03</td>\n",
       "      <td>326082.0000</td>\n",
       "    </tr>\n",
       "    <tr>\n",
       "      <th>3</th>\n",
       "      <td>2006-01-04</td>\n",
       "      <td>328763.0000</td>\n",
       "    </tr>\n",
       "    <tr>\n",
       "      <th>4</th>\n",
       "      <td>2006-01-05</td>\n",
       "      <td>329469.0000</td>\n",
       "    </tr>\n",
       "    <tr>\n",
       "      <th>...</th>\n",
       "      <td>...</td>\n",
       "      <td>...</td>\n",
       "    </tr>\n",
       "    <tr>\n",
       "      <th>6569</th>\n",
       "      <td>2023-12-27</td>\n",
       "      <td>305610.2900</td>\n",
       "    </tr>\n",
       "    <tr>\n",
       "      <th>6570</th>\n",
       "      <td>2023-12-28</td>\n",
       "      <td>326312.3400</td>\n",
       "    </tr>\n",
       "    <tr>\n",
       "      <th>6571</th>\n",
       "      <td>2023-12-29</td>\n",
       "      <td>314575.3300</td>\n",
       "    </tr>\n",
       "    <tr>\n",
       "      <th>6572</th>\n",
       "      <td>2023-12-30</td>\n",
       "      <td>290563.1625</td>\n",
       "    </tr>\n",
       "    <tr>\n",
       "      <th>6573</th>\n",
       "      <td>2023-12-31</td>\n",
       "      <td>296833.7350</td>\n",
       "    </tr>\n",
       "  </tbody>\n",
       "</table>\n",
       "<p>6574 rows × 2 columns</p>\n",
       "</div>"
      ],
      "text/plain": [
       "            date  loadConsumption\n",
       "0     2006-01-01      255022.0000\n",
       "1     2006-01-02      314663.0000\n",
       "2     2006-01-03      326082.0000\n",
       "3     2006-01-04      328763.0000\n",
       "4     2006-01-05      329469.0000\n",
       "...          ...              ...\n",
       "6569  2023-12-27      305610.2900\n",
       "6570  2023-12-28      326312.3400\n",
       "6571  2023-12-29      314575.3300\n",
       "6572  2023-12-30      290563.1625\n",
       "6573  2023-12-31      296833.7350\n",
       "\n",
       "[6574 rows x 2 columns]"
      ]
     },
     "execution_count": 7,
     "metadata": {},
     "output_type": "execute_result"
    }
   ],
   "source": [
    "dailyLoad_data"
   ]
  },
  {
   "cell_type": "code",
   "execution_count": 8,
   "id": "13f5a5b4-7c90-4972-86a5-41a10155b330",
   "metadata": {},
   "outputs": [],
   "source": [
    "# Ensure date column is datetime type\n",
    "dailyLoad_data['date'] = pd.to_datetime(dailyLoad_data['date'])\n",
    "\n",
    "# Extract year and merge\n",
    "dailyLoad_data['Year'] = dailyLoad_data['date'].dt.year\n",
    "daily_data = dailyLoad_data.copy()"
   ]
  },
  {
   "cell_type": "code",
   "execution_count": 9,
   "id": "a22b7c02-28ef-4e58-8b9b-27624d2915b1",
   "metadata": {},
   "outputs": [],
   "source": [
    "merged_res = pd.merge(daily_data, renewable_df, on=\"Year\", how=\"left\").dropna()\n",
    "\n",
    "# Select renewable features to test\n",
    "renewable_features = ['TotalSolarEnergy', 'Totaal windenergie', 'TotalBiomass']\n",
    "\n",
    "# Split datasets\n",
    "df_no_ren = merged_res[['date', 'loadConsumption']].copy()\n",
    "df_with_ren = merged_res[['date', 'loadConsumption'] + renewable_features].copy()\n",
    "\n",
    "# Set datetime index\n",
    "df_no_ren.set_index('date', inplace=True)\n",
    "df_with_ren.set_index('date', inplace=True)"
   ]
  },
  {
   "cell_type": "code",
   "execution_count": 30,
   "id": "f44e59aa-c092-4a8c-9a22-0f0fb7d60fb6",
   "metadata": {},
   "outputs": [
    {
     "name": "stderr",
     "output_type": "stream",
     "text": [
      "C:\\Users\\mahmo\\AppData\\Local\\Programs\\Python\\Python311\\Lib\\site-packages\\statsmodels\\tsa\\base\\tsa_model.py:473: ValueWarning: No frequency information was provided, so inferred frequency D will be used.\n",
      "  self._init_dates(dates, freq)\n",
      "C:\\Users\\mahmo\\AppData\\Local\\Programs\\Python\\Python311\\Lib\\site-packages\\statsmodels\\tsa\\base\\tsa_model.py:473: ValueWarning: No frequency information was provided, so inferred frequency D will be used.\n",
      "  self._init_dates(dates, freq)\n",
      "C:\\Users\\mahmo\\AppData\\Local\\Programs\\Python\\Python311\\Lib\\site-packages\\statsmodels\\tsa\\base\\tsa_model.py:473: ValueWarning: No frequency information was provided, so inferred frequency D will be used.\n",
      "  self._init_dates(dates, freq)\n",
      "C:\\Users\\mahmo\\AppData\\Local\\Programs\\Python\\Python311\\Lib\\site-packages\\statsmodels\\tsa\\base\\tsa_model.py:473: ValueWarning: No frequency information was provided, so inferred frequency D will be used.\n",
      "  self._init_dates(dates, freq)\n",
      "C:\\Users\\mahmo\\AppData\\Local\\Programs\\Python\\Python311\\Lib\\site-packages\\statsmodels\\tsa\\base\\tsa_model.py:473: ValueWarning: No frequency information was provided, so inferred frequency D will be used.\n",
      "  self._init_dates(dates, freq)\n",
      "C:\\Users\\mahmo\\AppData\\Local\\Programs\\Python\\Python311\\Lib\\site-packages\\statsmodels\\tsa\\base\\tsa_model.py:473: ValueWarning: No frequency information was provided, so inferred frequency D will be used.\n",
      "  self._init_dates(dates, freq)\n",
      "C:\\Users\\mahmo\\AppData\\Local\\Programs\\Python\\Python311\\Lib\\site-packages\\statsmodels\\tsa\\base\\tsa_model.py:473: ValueWarning: No frequency information was provided, so inferred frequency D will be used.\n",
      "  self._init_dates(dates, freq)\n",
      "C:\\Users\\mahmo\\AppData\\Local\\Programs\\Python\\Python311\\Lib\\site-packages\\statsmodels\\tsa\\base\\tsa_model.py:473: ValueWarning: No frequency information was provided, so inferred frequency D will be used.\n",
      "  self._init_dates(dates, freq)\n"
     ]
    },
    {
     "name": "stdout",
     "output_type": "stream",
     "text": [
      "SARIMAX without renewables h:1: {'nRMSE (%)': 3.25, 'nMAE (%)': 3.25, 'MAPE (%)': 3.25}\n",
      "SARIMAX with renewables h:1: {'nRMSE (%)': 3.89, 'nMAE (%)': 3.89, 'MAPE (%)': 3.89}\n",
      "SARIMAX without renewables h:180 : {'nRMSE (%)': 11.87, 'nMAE (%)': 9.79, 'MAPE (%)': 9.42}\n",
      "SARIMAX with renewables h:180: {'nRMSE (%)': 6.78, 'nMAE (%)': 5.5, 'MAPE (%)': 5.36}\n"
     ]
    }
   ],
   "source": [
    "# Function to evaluate SARIMAX for given dataset\n",
    "def evaluate_sarimax(df, exog_features=None, forecast_horizon=1):\n",
    "    # Train/test split (80/20)\n",
    "    split_idx = int(len(df) * 0.8)\n",
    "    train = df.iloc[:split_idx]\n",
    "    test = df.iloc[split_idx:]\n",
    "\n",
    "    # Fit SARIMAX\n",
    "    model = SARIMAX(\n",
    "        train['loadConsumption'],\n",
    "        exog=train[exog_features] if exog_features else None,\n",
    "        order=(1, 0, 1),\n",
    "        seasonal_order=(1, 0, 1, 7),\n",
    "        enforce_stationarity=False,\n",
    "        enforce_invertibility=False\n",
    "    )\n",
    "    model_fit = model.fit(disp=False)\n",
    "\n",
    "    # Forecast\n",
    "    forecast = model_fit.forecast(\n",
    "        steps=forecast_horizon,\n",
    "        exog=test[exog_features].iloc[:forecast_horizon] if exog_features else None\n",
    "    )\n",
    "\n",
    "    # Ground truth\n",
    "    actual = test['loadConsumption'].iloc[:forecast_horizon]\n",
    "\n",
    "    # Evaluation metrics\n",
    "    rmse = mean_squared_error(actual, forecast, squared=False)\n",
    "    mae = mean_absolute_error(actual, forecast)\n",
    "    mape = np.mean(np.abs((actual - forecast) / actual)) * 100\n",
    "\n",
    "    # Normalize by mean of actuals\n",
    "    mean_val = actual.mean()\n",
    "    nrmse = (rmse / mean_val) * 100\n",
    "    nmae = (mae / mean_val) * 100\n",
    "\n",
    "    return {\n",
    "        'nRMSE (%)': round(nrmse, 2),\n",
    "        'nMAE (%)': round(nmae, 2),\n",
    "        'MAPE (%)': round(mape, 2)\n",
    "    }\n",
    "\n",
    "# Run evaluations\n",
    "results_no_ren_h1 = evaluate_sarimax(df_no_ren, exog_features=None, forecast_horizon=1)\n",
    "results_with_ren_h1 = evaluate_sarimax(df_with_ren, exog_features=renewable_features, forecast_horizon=1)\n",
    "\n",
    "results_no_ren_h180 = evaluate_sarimax(df_no_ren, exog_features=None, forecast_horizon=180)\n",
    "results_with_ren_h180 = evaluate_sarimax(df_with_ren, exog_features=renewable_features, forecast_horizon=180)\n",
    "\n",
    "# Display results\n",
    "print(\"SARIMAX without renewables h:1:\", results_no_ren_h1)\n",
    "print(\"SARIMAX with renewables h:1:\", results_with_ren_h1)\n",
    "\n",
    "print(\"SARIMAX without renewables h:180 :\", results_no_ren_h180)\n",
    "print(\"SARIMAX with renewables h:180:\", results_with_ren_h180)\n",
    "\n"
   ]
  },
  {
   "cell_type": "code",
   "execution_count": 31,
   "id": "6e4c1ec4-b437-4d74-8c12-26a1f164f38c",
   "metadata": {},
   "outputs": [],
   "source": [
    "gdp = pd.read_csv(\"processed_data/GDP.csv\").groupby(\"Year\", as_index=False)['GDP'].mean()\n",
    "pop = pd.read_csv(\"processed_data/populationNL.csv\")\n",
    "\n",
    "# Merge socioeconomic data\n",
    "socio = pd.merge(gdp, pop, on='Year')"
   ]
  },
  {
   "cell_type": "code",
   "execution_count": 32,
   "id": "8616a8da-7abd-4282-80d9-3bc713cf7ba6",
   "metadata": {},
   "outputs": [],
   "source": [
    "socia_df = pd.merge(daily_data, socio, on='Year', how='left').dropna()"
   ]
  },
  {
   "cell_type": "code",
   "execution_count": 33,
   "id": "a7d9a32b-1feb-4f9b-b456-14ceccadfc23",
   "metadata": {},
   "outputs": [],
   "source": [
    "socio_features = ['GDP', 'Population']"
   ]
  },
  {
   "cell_type": "code",
   "execution_count": 34,
   "id": "0a005187-11cc-4510-b38a-af1e9a528a50",
   "metadata": {},
   "outputs": [],
   "source": [
    "# Create datasets\n",
    "df_socio = socia_df[['date', 'loadConsumption', 'GDP', 'Population']]\n",
    "df_socio.set_index('date', inplace=True)\n",
    "\n",
    "# Daily aggregation\n",
    "df_socio_daily = df_socio.resample('D').mean().dropna()"
   ]
  },
  {
   "cell_type": "code",
   "execution_count": 35,
   "id": "0b04679a-ba92-455f-a18f-1db00275baab",
   "metadata": {},
   "outputs": [
    {
     "name": "stderr",
     "output_type": "stream",
     "text": [
      "C:\\Users\\mahmo\\AppData\\Local\\Programs\\Python\\Python311\\Lib\\site-packages\\statsmodels\\tsa\\base\\tsa_model.py:473: ValueWarning: No frequency information was provided, so inferred frequency D will be used.\n",
      "  self._init_dates(dates, freq)\n",
      "C:\\Users\\mahmo\\AppData\\Local\\Programs\\Python\\Python311\\Lib\\site-packages\\statsmodels\\tsa\\base\\tsa_model.py:473: ValueWarning: No frequency information was provided, so inferred frequency D will be used.\n",
      "  self._init_dates(dates, freq)\n",
      "C:\\Users\\mahmo\\AppData\\Local\\Programs\\Python\\Python311\\Lib\\site-packages\\statsmodels\\tsa\\base\\tsa_model.py:473: ValueWarning: No frequency information was provided, so inferred frequency D will be used.\n",
      "  self._init_dates(dates, freq)\n",
      "C:\\Users\\mahmo\\AppData\\Local\\Programs\\Python\\Python311\\Lib\\site-packages\\statsmodels\\tsa\\base\\tsa_model.py:473: ValueWarning: No frequency information was provided, so inferred frequency D will be used.\n",
      "  self._init_dates(dates, freq)\n"
     ]
    },
    {
     "name": "stdout",
     "output_type": "stream",
     "text": [
      "SARIMAX with socio_1: {'nRMSE (%)': 4.0, 'nMAE (%)': 4.0, 'MAPE (%)': 4.0}\n",
      "SARIMAX with socio_180   : {'nRMSE (%)': 7.07, 'nMAE (%)': 5.73, 'MAPE (%)': 5.58}\n"
     ]
    }
   ],
   "source": [
    "results_with_socio_1 = evaluate_sarimax(df_socio, exog_features=socio_features, forecast_horizon=1)\n",
    "results_with_socio_180 = evaluate_sarimax(df_socio, exog_features=socio_features, forecast_horizon=180)\n",
    "\n",
    "print(\"SARIMAX with socio_1:\", results_with_socio_1)\n",
    "print(\"SARIMAX with socio_180   :\", results_with_socio_180)"
   ]
  },
  {
   "cell_type": "code",
   "execution_count": 37,
   "id": "a8c6b09b-20f6-4fee-9a69-7279d928784e",
   "metadata": {},
   "outputs": [],
   "source": []
  },
  {
   "cell_type": "code",
   "execution_count": null,
   "id": "9ae6540e-5549-4f9b-b906-c45be4e86c7e",
   "metadata": {},
   "outputs": [],
   "source": []
  }
 ],
 "metadata": {
  "kernelspec": {
   "display_name": "Python 3 (ipykernel)",
   "language": "python",
   "name": "python3"
  },
  "language_info": {
   "codemirror_mode": {
    "name": "ipython",
    "version": 3
   },
   "file_extension": ".py",
   "mimetype": "text/x-python",
   "name": "python",
   "nbconvert_exporter": "python",
   "pygments_lexer": "ipython3",
   "version": "3.11.5"
  }
 },
 "nbformat": 4,
 "nbformat_minor": 5
}
