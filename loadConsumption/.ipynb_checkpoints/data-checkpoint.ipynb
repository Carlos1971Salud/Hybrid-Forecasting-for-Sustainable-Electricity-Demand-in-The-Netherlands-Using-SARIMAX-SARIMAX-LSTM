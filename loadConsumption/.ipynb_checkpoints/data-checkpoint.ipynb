{
 "cells": [
  {
   "cell_type": "code",
   "execution_count": 6,
   "id": "a5179f2b-1973-452f-adf3-f2bee858934e",
   "metadata": {},
   "outputs": [
    {
     "data": {
      "text/plain": [
       "(  Country  Year  Month  Day  Coverage ratio       0       1       2       3  \\\n",
       " 0      AT  2006      1    1           100.0  6297.0  6005.0  5743.0  5397.0   \n",
       " 1      AT  2006      1    2           100.0  5900.0  5643.0  5524.0  5372.0   \n",
       " 2      AT  2006      1    3           100.0  6483.0  6192.0  5991.0  5773.0   \n",
       " 3      AT  2006      1    4           100.0  6522.0  6217.0  6027.0  5802.0   \n",
       " 4      AT  2006      1    5           100.0  6575.0  6237.0  6065.0  5841.0   \n",
       " \n",
       "         4  ...      14      15      16      17      18      19      20  \\\n",
       " 0  5213.0  ...  6247.0  6231.0  6603.0  6979.0  7022.0  6930.0  6560.0   \n",
       " 1  5481.0  ...  8190.0  8168.0  8469.0  8735.0  8617.0  8218.0  7773.0   \n",
       " 2  5849.0  ...  8112.0  8055.0  8342.0  8670.0  8534.0  8203.0  7745.0   \n",
       " 3  5866.0  ...  8145.0  8081.0  8331.0  8470.0  8460.0  8185.0  7759.0   \n",
       " 4  5887.0  ...  8046.0  8042.0  8268.0  8361.0  8453.0  8114.0  7606.0   \n",
       " \n",
       "        21      22      23  \n",
       " 0  6170.0  6501.0  6168.0  \n",
       " 1  7247.0  7413.0  6926.0  \n",
       " 2  7214.0  7397.0  6981.0  \n",
       " 3  7242.0  7441.0  6981.0  \n",
       " 4  7139.0  7333.0  6888.0  \n",
       " \n",
       " [5 rows x 29 columns],\n",
       "                   MeasureItem             DateUTC  DateShort  TimeFrom  \\\n",
       " 0  Monthly Hourly Load Values 2014-12-31 23:00:00 2014-12-31  23:00:00   \n",
       " 1  Monthly Hourly Load Values 2015-01-01 00:00:00 2015-01-01  00:00:00   \n",
       " 2  Monthly Hourly Load Values 2015-01-01 01:00:00 2015-01-01  01:00:00   \n",
       " 3  Monthly Hourly Load Values 2015-01-01 02:00:00 2015-01-01  02:00:00   \n",
       " 4  Monthly Hourly Load Values 2015-01-01 03:00:00 2015-01-01  03:00:00   \n",
       " \n",
       "      TimeTo CountryCode  Cov_ratio     Value  Value_ScaleTo100  \n",
       " 0  00:00:00          DE         98  46419.79      47367.132653  \n",
       " 1  01:00:00          DE         98  44898.30      45814.591837  \n",
       " 2  02:00:00          DE         98  43305.31      44189.091837  \n",
       " 3  03:00:00          DE         98  41918.17      42773.642857  \n",
       " 4  04:00:00          DE         98  41330.17      42173.642857  )"
      ]
     },
     "execution_count": 6,
     "metadata": {},
     "output_type": "execute_result"
    }
   ],
   "source": [
    "import pandas as pd\n",
    "# Load specific sheets into dataframes\n",
    "sheet1_df1 = pd.read_excel('load_2006_2015.xlsx')\n",
    "sheet1_df2 = pd.read_excel('load_2015_2019.xlsx')\n",
    "\n",
    "# Display the first few rows of each sheet to understand the structure\n",
    "sheet1_df1.head(), sheet1_df2.head()\n"
   ]
  },
  {
   "cell_type": "code",
   "execution_count": null,
   "id": "6cbf80c4-6fec-477d-9d32-af158ccb03da",
   "metadata": {},
   "outputs": [],
   "source": []
  }
 ],
 "metadata": {
  "kernelspec": {
   "display_name": "Python 3 (ipykernel)",
   "language": "python",
   "name": "python3"
  },
  "language_info": {
   "codemirror_mode": {
    "name": "ipython",
    "version": 3
   },
   "file_extension": ".py",
   "mimetype": "text/x-python",
   "name": "python",
   "nbconvert_exporter": "python",
   "pygments_lexer": "ipython3",
   "version": "3.9.7"
  }
 },
 "nbformat": 4,
 "nbformat_minor": 5
}
