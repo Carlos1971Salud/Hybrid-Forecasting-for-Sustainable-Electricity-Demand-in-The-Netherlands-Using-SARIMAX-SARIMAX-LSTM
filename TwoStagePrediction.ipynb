{
 "cells": [
  {
   "cell_type": "markdown",
   "id": "89b307bf-2dff-4bbb-babe-7ca44592e54c",
   "metadata": {},
   "source": [
    "# Two Stage Prediction "
   ]
  },
  {
   "cell_type": "markdown",
   "id": "2f292001-e14c-4509-bd77-36e0896e26a2",
   "metadata": {},
   "source": [
    "# Two-Stage Prediction Notebook\n",
    "\n",
    "## Overview\n",
    "This Jupyter Notebook implements a two-stage prediction model, designed to enhance the accuracy of load consumption forecasting. The first stage involves modeling predictions based on yearly aggregated features, including GDP, population, and energy structure, capturing broader economic and structural influences. The second stage refines this prediction by incorporating daily-level data to provide a more granular forecast of load consumption.\n",
    "\n",
    "By leveraging historical data, carefully engineered features, and advanced predictive techniques, this notebook aims to improve the precision of short-term energy demand forecasting, offering valuable insights for decision-making in energy management and planning.\n",
    "\n",
    "## Structure\n",
    "\n",
    "### 1. Data Loading and Preprocessing\n",
    "- Reads the dataset\n",
    "- Feature engineering, and transformations.\n",
    "- Visualizes key data distributions.\n",
    "\n",
    "### 2. Feature Selection and Engineering\n",
    "- Extracts important features from the dataset.\n",
    "- Implements techniques such as normalization, encoding, or dimensionality reduction.\n",
    "\n",
    "### 3. Model Training - First Stage\n",
    "- Trains an initial predictive model (random forest).\n",
    "- Evaluates its performance using metrics such as RMSE, accuracy, or R².\n",
    "\n",
    "### 4. Model Training - Second Stage\n",
    "- Utilizes the first-stage predictions as input features.\n",
    "- Trains a secondary model to refine the predictions.\n",
    "\n",
    "### 5. Model Evaluation\n",
    "- Assesses the performance of both models.\n",
    "- Compares results and visualizes key insights.\n",
    "\n",
    "### 6. Predictions and Conclusions\n",
    "- Generates final predictions based on the two-stage model.\n"
   ]
  },
  {
   "cell_type": "code",
   "execution_count": 1,
   "id": "c49e9ec2-bdbd-457f-b28c-f5fcd4313cb3",
   "metadata": {},
   "outputs": [],
   "source": [
    "import pandas as pd\n",
    "import numpy as np\n",
    "import matplotlib.pyplot as plt\n",
    "import seaborn as sns\n",
    "from sklearn.model_selection import train_test_split, TimeSeriesSplit\n",
    "from sklearn.preprocessing import StandardScaler\n",
    "from sklearn.ensemble import RandomForestRegressor, VotingRegressor\n",
    "from sklearn.metrics import mean_absolute_error, mean_squared_error, r2_score\n",
    "from xgboost import XGBRegressor\n",
    "import tensorflow as tf\n",
    "from tensorflow.keras.models import Sequential\n",
    "from tensorflow.keras.layers import LSTM, Dense, Dropout\n",
    "from tensorflow.keras.optimizers import Adam\n",
    "from sklearn.feature_selection import RFE\n",
    "from sklearn.linear_model import LinearRegression"
   ]
  },
  {
   "cell_type": "code",
   "execution_count": 2,
   "id": "3db8fb3b-2af2-4cb6-b4e7-878699b01bb3",
   "metadata": {},
   "outputs": [],
   "source": [
    "# Load Data\n",
    "\n",
    "daily_data = pd.read_csv(\"merged_data_granualityBased/daily_merged_data(no_lags).csv\")\n",
    "monthly_data = pd.read_csv(\"merged_data_granualityBased/merged_monthyl_data.csv\")\n",
    "yearly_data = pd.read_csv(\"merged_data_granualityBased/merged_Yearly_data.csv\")\n"
   ]
  },
  {
   "cell_type": "code",
   "execution_count": 3,
   "id": "12edc198-1aae-48fa-a996-d38efe387174",
   "metadata": {},
   "outputs": [
    {
     "data": {
      "text/html": [
       "<div>\n",
       "<style scoped>\n",
       "    .dataframe tbody tr th:only-of-type {\n",
       "        vertical-align: middle;\n",
       "    }\n",
       "\n",
       "    .dataframe tbody tr th {\n",
       "        vertical-align: top;\n",
       "    }\n",
       "\n",
       "    .dataframe thead th {\n",
       "        text-align: right;\n",
       "    }\n",
       "</style>\n",
       "<table border=\"1\" class=\"dataframe\">\n",
       "  <thead>\n",
       "    <tr style=\"text-align: right;\">\n",
       "      <th></th>\n",
       "      <th>date</th>\n",
       "      <th>loadConsumption</th>\n",
       "      <th>DailyPrecipitation</th>\n",
       "      <th>MaxHourlyPrecipitation</th>\n",
       "      <th>HDMaxPrecipitation</th>\n",
       "      <th>DailyMeanTemperature</th>\n",
       "      <th>HourlyMinTemperature</th>\n",
       "      <th>HDMinTemperature</th>\n",
       "      <th>HourlyMaxTemperature</th>\n",
       "      <th>HDMaxTemperature</th>\n",
       "      <th>DailyMeanWindspeed</th>\n",
       "      <th>MaxHourlyMeanWindspeed</th>\n",
       "      <th>HDMaxMeanWindspeed</th>\n",
       "      <th>MinHourlyMeanWindspeed</th>\n",
       "      <th>HDMinMeanWindspeed</th>\n",
       "      <th>Month</th>\n",
       "      <th>Year</th>\n",
       "      <th>Week</th>\n",
       "      <th>WeekKey</th>\n",
       "      <th>day_of_week</th>\n",
       "    </tr>\n",
       "  </thead>\n",
       "  <tbody>\n",
       "    <tr>\n",
       "      <th>0</th>\n",
       "      <td>2015-01-01</td>\n",
       "      <td>275667.0</td>\n",
       "      <td>-0.1</td>\n",
       "      <td>-0.1</td>\n",
       "      <td>1</td>\n",
       "      <td>3.0</td>\n",
       "      <td>10</td>\n",
       "      <td>5</td>\n",
       "      <td>4.7</td>\n",
       "      <td>24</td>\n",
       "      <td>5.4</td>\n",
       "      <td>8.0</td>\n",
       "      <td>24</td>\n",
       "      <td>4.0</td>\n",
       "      <td>1</td>\n",
       "      <td>1</td>\n",
       "      <td>2015</td>\n",
       "      <td>1</td>\n",
       "      <td>201501</td>\n",
       "      <td>Thursday</td>\n",
       "    </tr>\n",
       "    <tr>\n",
       "      <th>1</th>\n",
       "      <td>2015-01-02</td>\n",
       "      <td>319026.0</td>\n",
       "      <td>4.3</td>\n",
       "      <td>1.7</td>\n",
       "      <td>3</td>\n",
       "      <td>7.3</td>\n",
       "      <td>44</td>\n",
       "      <td>1</td>\n",
       "      <td>10.1</td>\n",
       "      <td>8</td>\n",
       "      <td>6.1</td>\n",
       "      <td>9.0</td>\n",
       "      <td>2</td>\n",
       "      <td>4.0</td>\n",
       "      <td>20</td>\n",
       "      <td>1</td>\n",
       "      <td>2015</td>\n",
       "      <td>1</td>\n",
       "      <td>201501</td>\n",
       "      <td>Friday</td>\n",
       "    </tr>\n",
       "    <tr>\n",
       "      <th>2</th>\n",
       "      <td>2015-01-03</td>\n",
       "      <td>313131.0</td>\n",
       "      <td>1.5</td>\n",
       "      <td>0.5</td>\n",
       "      <td>10</td>\n",
       "      <td>3.8</td>\n",
       "      <td>26</td>\n",
       "      <td>17</td>\n",
       "      <td>5.9</td>\n",
       "      <td>1</td>\n",
       "      <td>3.3</td>\n",
       "      <td>5.0</td>\n",
       "      <td>7</td>\n",
       "      <td>1.0</td>\n",
       "      <td>17</td>\n",
       "      <td>1</td>\n",
       "      <td>2015</td>\n",
       "      <td>1</td>\n",
       "      <td>201501</td>\n",
       "      <td>Saturday</td>\n",
       "    </tr>\n",
       "    <tr>\n",
       "      <th>3</th>\n",
       "      <td>2015-01-04</td>\n",
       "      <td>296832.0</td>\n",
       "      <td>-0.1</td>\n",
       "      <td>-0.1</td>\n",
       "      <td>1</td>\n",
       "      <td>3.9</td>\n",
       "      <td>-3</td>\n",
       "      <td>21</td>\n",
       "      <td>8.0</td>\n",
       "      <td>13</td>\n",
       "      <td>2.4</td>\n",
       "      <td>3.0</td>\n",
       "      <td>11</td>\n",
       "      <td>2.0</td>\n",
       "      <td>1</td>\n",
       "      <td>1</td>\n",
       "      <td>2015</td>\n",
       "      <td>1</td>\n",
       "      <td>201501</td>\n",
       "      <td>Sunday</td>\n",
       "    </tr>\n",
       "    <tr>\n",
       "      <th>4</th>\n",
       "      <td>2015-01-05</td>\n",
       "      <td>350937.0</td>\n",
       "      <td>0.0</td>\n",
       "      <td>0.0</td>\n",
       "      <td>1</td>\n",
       "      <td>2.4</td>\n",
       "      <td>9</td>\n",
       "      <td>11</td>\n",
       "      <td>3.8</td>\n",
       "      <td>24</td>\n",
       "      <td>3.0</td>\n",
       "      <td>5.0</td>\n",
       "      <td>11</td>\n",
       "      <td>1.0</td>\n",
       "      <td>22</td>\n",
       "      <td>1</td>\n",
       "      <td>2015</td>\n",
       "      <td>2</td>\n",
       "      <td>201502</td>\n",
       "      <td>Monday</td>\n",
       "    </tr>\n",
       "  </tbody>\n",
       "</table>\n",
       "</div>"
      ],
      "text/plain": [
       "         date  loadConsumption  DailyPrecipitation  MaxHourlyPrecipitation  \\\n",
       "0  2015-01-01         275667.0                -0.1                    -0.1   \n",
       "1  2015-01-02         319026.0                 4.3                     1.7   \n",
       "2  2015-01-03         313131.0                 1.5                     0.5   \n",
       "3  2015-01-04         296832.0                -0.1                    -0.1   \n",
       "4  2015-01-05         350937.0                 0.0                     0.0   \n",
       "\n",
       "   HDMaxPrecipitation  DailyMeanTemperature  HourlyMinTemperature  \\\n",
       "0                   1                   3.0                    10   \n",
       "1                   3                   7.3                    44   \n",
       "2                  10                   3.8                    26   \n",
       "3                   1                   3.9                    -3   \n",
       "4                   1                   2.4                     9   \n",
       "\n",
       "   HDMinTemperature  HourlyMaxTemperature  HDMaxTemperature  \\\n",
       "0                 5                   4.7                24   \n",
       "1                 1                  10.1                 8   \n",
       "2                17                   5.9                 1   \n",
       "3                21                   8.0                13   \n",
       "4                11                   3.8                24   \n",
       "\n",
       "   DailyMeanWindspeed  MaxHourlyMeanWindspeed  HDMaxMeanWindspeed  \\\n",
       "0                 5.4                     8.0                  24   \n",
       "1                 6.1                     9.0                   2   \n",
       "2                 3.3                     5.0                   7   \n",
       "3                 2.4                     3.0                  11   \n",
       "4                 3.0                     5.0                  11   \n",
       "\n",
       "   MinHourlyMeanWindspeed  HDMinMeanWindspeed  Month  Year  Week  WeekKey  \\\n",
       "0                     4.0                   1      1  2015     1   201501   \n",
       "1                     4.0                  20      1  2015     1   201501   \n",
       "2                     1.0                  17      1  2015     1   201501   \n",
       "3                     2.0                   1      1  2015     1   201501   \n",
       "4                     1.0                  22      1  2015     2   201502   \n",
       "\n",
       "  day_of_week  \n",
       "0    Thursday  \n",
       "1      Friday  \n",
       "2    Saturday  \n",
       "3      Sunday  \n",
       "4      Monday  "
      ]
     },
     "execution_count": 3,
     "metadata": {},
     "output_type": "execute_result"
    }
   ],
   "source": [
    "daily_data.head()"
   ]
  },
  {
   "cell_type": "code",
   "execution_count": 4,
   "id": "f415d706-e0ac-4867-86f2-6560fa3e68f8",
   "metadata": {},
   "outputs": [],
   "source": [
    "# Convert datetime columns\n",
    "daily_data[\"date\"] = pd.to_datetime(daily_data[\"date\"])\n",
    "\n",
    "daily_data.set_index(\"date\", inplace=True)"
   ]
  },
  {
   "cell_type": "code",
   "execution_count": 5,
   "id": "01d554d4-821d-4e4c-87f3-70feeff33aa2",
   "metadata": {},
   "outputs": [],
   "source": [
    "# Ensure numerical columns are correctly formatted\n",
    "yearly_data[\"Population\"] = yearly_data[\"Population\"].str.replace(',', '').astype(float)"
   ]
  },
  {
   "cell_type": "code",
   "execution_count": 6,
   "id": "0a47d091-bd10-40e9-8a64-66f0552c66e3",
   "metadata": {},
   "outputs": [],
   "source": [
    "# Feature Engineering Function\n",
    "def feature_importance_rfa(X, y):\n",
    "    model = RandomForestRegressor(n_estimators=100, random_state=42)\n",
    "    model.fit(X, y)\n",
    "    feature_importances = pd.Series(model.feature_importances_, index=X.columns)\n",
    "    feature_importances.sort_values(ascending=False, inplace=True)\n",
    "    \n",
    "    #Print feature importances\n",
    "    print(\"Feature Importances (Descending Order):\")\n",
    "    print(feature_importances)\n",
    "    \n",
    "    return feature_importances"
   ]
  },
  {
   "cell_type": "markdown",
   "id": "27ae0cfc-6c39-446b-b4ba-3586a1b67ee9",
   "metadata": {},
   "source": [
    "## Stage 1: Yearly Forecasting"
   ]
  },
  {
   "cell_type": "code",
   "execution_count": 56,
   "id": "f5fb0e66-7923-40a9-b089-bf1846844704",
   "metadata": {},
   "outputs": [],
   "source": [
    "#yearly_data.columns"
   ]
  },
  {
   "cell_type": "code",
   "execution_count": 8,
   "id": "ca07906d-e60e-4da7-9848-0a25d2630324",
   "metadata": {},
   "outputs": [],
   "source": [
    "# One-Hot Encode PriceComponents\n",
    "yearly_data = pd.get_dummies(yearly_data, columns=[\"PriceComponents\"], drop_first=True)"
   ]
  },
  {
   "cell_type": "code",
   "execution_count": 9,
   "id": "89d7fab4-aef2-4d1d-b8e9-5d86d1cb5484",
   "metadata": {},
   "outputs": [],
   "source": [
    "# Ensure all rows are printed\n",
    "pd.set_option('display.max_rows', None)"
   ]
  },
  {
   "cell_type": "code",
   "execution_count": 57,
   "id": "81b12c96-578a-445e-89fc-6a5d311976c7",
   "metadata": {},
   "outputs": [],
   "source": [
    "# Select Features and Target\n",
    "selected_features = ['Population', 'GDP','AveragePrice_Electricity_Household', 'Totaal windenergie (MWh)', 'TotalSolarEnergy (MWh)', 'TotalRes(incl.Stat.Transfer) (MWh)']\n",
    "\n",
    "# Define the feature matrix X and the target variable y.\n",
    "X_yearly = yearly_data[selected_features]\n",
    "y_yearly = yearly_data['loadConsumption'] \n"
   ]
  },
  {
   "cell_type": "code",
   "execution_count": 58,
   "id": "8ef9025b-55fd-4690-80ef-3e5dda14e3fb",
   "metadata": {},
   "outputs": [],
   "source": [
    "# Split the data into training and testing sets\n",
    "X_train_yearly, X_test_yearly, y_train_yearly, y_test_yearly = train_test_split(X_yearly, y_yearly, test_size=0.2, random_state=42)\n",
    "\n",
    "# Scale Data\n",
    "scaler = StandardScaler()\n",
    "X_train_scaled = scaler.fit_transform(X_train_yearly)\n",
    "X_test_scaled = scaler.transform(X_test_yearly)"
   ]
  },
  {
   "cell_type": "code",
   "execution_count": 79,
   "id": "d0f5e7e0-7ac8-4dc0-9dfa-b1316ce20abf",
   "metadata": {},
   "outputs": [],
   "source": [
    "# Train MOdel\n",
    "# Train Model\n",
    "model_yearly = RandomForestRegressor(n_estimators=100, max_depth= 4,random_state=42, max_features=\"sqrt\", min_samples_split=5)\n",
    "model_yearly.fit(X_train_scaled, y_train_yearly)\n",
    "y_pred_yearly = model_yearly.predict(X_test_scaled)\n"
   ]
  },
  {
   "cell_type": "code",
   "execution_count": 80,
   "id": "29d2adc2-8990-43c6-ac31-a8d389642f6d",
   "metadata": {},
   "outputs": [],
   "source": [
    "# Store yearly predictions in monthly dataset\n",
    "monthly_data[\"Predicted_Yearly_Load\"] = np.repeat(\n",
    "    model_yearly.predict(scaler.transform(X_yearly)),\n",
    "    len(monthly_data) // len(yearly_data)\n",
    ")[:len(monthly_data)]"
   ]
  },
  {
   "cell_type": "code",
   "execution_count": 81,
   "id": "1436bce1-62de-4951-8e97-2d5f349e14a2",
   "metadata": {},
   "outputs": [],
   "source": [
    "# Generate yearly predictions\n",
    "predicted_yearly_load = model_yearly.predict(scaler.transform(X_yearly))\n",
    "\n",
    "# Expand yearly predictions to match daily data size\n",
    "num_days_per_year = len(daily_data) // len(yearly_data)\n",
    "expanded_yearly_load = np.repeat(predicted_yearly_load, num_days_per_year)\n",
    "\n",
    "# Handle potential size mismatch\n",
    "if len(expanded_yearly_load) < len(daily_data):\n",
    "    expanded_yearly_load = np.append(expanded_yearly_load, [expanded_yearly_load[-1]] * (len(daily_data) - len(expanded_yearly_load)))\n",
    "\n",
    "# Store in daily dataset\n",
    "daily_data[\"Predicted_Yearly_Load\"] = expanded_yearly_load[:len(daily_data)]"
   ]
  },
  {
   "cell_type": "code",
   "execution_count": 82,
   "id": "9deee0a2-2c00-4950-bcba-f350584a105b",
   "metadata": {},
   "outputs": [
    {
     "name": "stdout",
     "output_type": "stream",
     "text": [
      "Accuracy Metrics for the Yearly Prediction Model:\n",
      "R-squared: 0.9564\n",
      "Mean Absolute Error (MAE): 692159.6006\n",
      "Mean Squared Error (MSE): 676431755631.7533\n",
      "Mean Absolute Percentage Error (MAPE): 0.62%\n"
     ]
    }
   ],
   "source": [
    "# Compute accuracy metrics\n",
    "r2 = r2_score(y_test_yearly, y_pred_yearly)\n",
    "mae = mean_absolute_error(y_test_yearly, y_pred_yearly)\n",
    "mse = mean_squared_error(y_test_yearly, y_pred_yearly)\n",
    "# Compute Mean Absolute Percentage Error (MAPE)\n",
    "mape = np.mean(np.abs((y_test_yearly - y_pred_yearly) / y_test_yearly)) * 100\n",
    "\n",
    "print(\"Accuracy Metrics for the Yearly Prediction Model:\")\n",
    "print(f\"R-squared: {r2:.4f}\")\n",
    "print(f\"Mean Absolute Error (MAE): {mae:.4f}\")\n",
    "print(f\"Mean Squared Error (MSE): {mse:.4f}\")\n",
    "print(f\"Mean Absolute Percentage Error (MAPE): {mape:.2f}%\")"
   ]
  },
  {
   "cell_type": "markdown",
   "id": "79ed45c1-2079-4ba6-85c8-cc34e5b3a0a5",
   "metadata": {},
   "source": [
    "#### calculate Monthly Change in load consumption"
   ]
  },
  {
   "cell_type": "code",
   "execution_count": 83,
   "id": "8d574c73-d5fb-4223-ad68-02bdbfb6fffc",
   "metadata": {},
   "outputs": [],
   "source": [
    "# Compute Monthly Load Change (%)\n",
    "monthly_data['Load_Change_Percentage'] = monthly_data['loadConsumption'].pct_change()\n",
    "monthly_data['Load_Change_Percentage'].fillna(0, inplace=True)  # Fill NaN for the first month"
   ]
  },
  {
   "cell_type": "code",
   "execution_count": 84,
   "id": "2fa1680c-47bd-42a6-b8dd-033fd7990585",
   "metadata": {},
   "outputs": [],
   "source": [
    "# Merge Monthly Load Change into Daily Data\n",
    "daily_data = daily_data.merge(monthly_data[['Month', 'Load_Change_Percentage']], on='Month', how='left')"
   ]
  },
  {
   "cell_type": "markdown",
   "id": "627b5406-85c3-4d48-8bac-0d97ec033836",
   "metadata": {},
   "source": [
    "## Stage 2: Daily Prediction"
   ]
  },
  {
   "cell_type": "code",
   "execution_count": 85,
   "id": "33ecefe9-0001-41ff-94d2-6225a885f372",
   "metadata": {},
   "outputs": [
    {
     "data": {
      "text/plain": [
       "Index(['loadConsumption', 'DailyPrecipitation', 'MaxHourlyPrecipitation',\n",
       "       'HDMaxPrecipitation', 'DailyMeanTemperature', 'HourlyMinTemperature',\n",
       "       'HDMinTemperature', 'HourlyMaxTemperature', 'HDMaxTemperature',\n",
       "       'DailyMeanWindspeed', 'MaxHourlyMeanWindspeed', 'HDMaxMeanWindspeed',\n",
       "       'MinHourlyMeanWindspeed', 'HDMinMeanWindspeed', 'Month', 'Year', 'Week',\n",
       "       'WeekKey', 'day_of_week', 'Predicted_Yearly_Load',\n",
       "       'Load_Change_Percentage'],\n",
       "      dtype='object')"
      ]
     },
     "execution_count": 85,
     "metadata": {},
     "output_type": "execute_result"
    }
   ],
   "source": [
    "daily_data.columns"
   ]
  },
  {
   "cell_type": "code",
   "execution_count": 86,
   "id": "e1671583-7c39-4fdc-85ba-59c7a6a9d054",
   "metadata": {
    "scrolled": true
   },
   "outputs": [],
   "source": [
    "daily_data = pd.get_dummies(daily_data, columns=[\"day_of_week\"], drop_first=True)"
   ]
  },
  {
   "cell_type": "code",
   "execution_count": 87,
   "id": "912d33ac-5a90-4989-b921-dcd08a0ba871",
   "metadata": {},
   "outputs": [
    {
     "name": "stdout",
     "output_type": "stream",
     "text": [
      "Feature Importances (Descending Order):\n",
      "HourlyMaxTemperature      0.284634\n",
      "WeekKey                   0.188563\n",
      "day_of_week_Sunday        0.172316\n",
      "day_of_week_Saturday      0.113563\n",
      "Week                      0.099327\n",
      "Year                      0.023774\n",
      "Month                     0.019245\n",
      "HourlyMinTemperature      0.015401\n",
      "Predicted_Yearly_Load     0.013292\n",
      "DailyMeanTemperature      0.010142\n",
      "DailyPrecipitation        0.008877\n",
      "HDMaxMeanWindspeed        0.006980\n",
      "DailyMeanWindspeed        0.006315\n",
      "Load_Change_Percentage    0.006295\n",
      "HDMaxPrecipitation        0.004812\n",
      "MaxHourlyPrecipitation    0.004780\n",
      "HDMaxTemperature          0.004445\n",
      "HDMinMeanWindspeed        0.003938\n",
      "HDMinTemperature          0.003893\n",
      "MaxHourlyMeanWindspeed    0.003578\n",
      "MinHourlyMeanWindspeed    0.002803\n",
      "day_of_week_Monday        0.001724\n",
      "day_of_week_Wednesday     0.000450\n",
      "day_of_week_Thursday      0.000436\n",
      "day_of_week_Tuesday       0.000415\n",
      "dtype: float64\n",
      "Daily Model Performance:\n",
      "MAE: 4737.941921706213, MSE: 53507624.3531331, R^2: 0.9499020685714702, MAPE: 1.6049588929353935\n"
     ]
    }
   ],
   "source": [
    "## Stage 2: Daily Forecasting\n",
    "\n",
    "daily_features = daily_data.drop(columns=[\"loadConsumption\"])\n",
    "daily_target = \"loadConsumption\"\n",
    "X_daily = daily_features\n",
    "y_daily = daily_data[daily_target]\n",
    "\n",
    "# Compute feature importance\n",
    "daily_feature_importance = feature_importance_rfa(X_daily, y_daily)\n",
    "selected_daily_features = list(daily_feature_importance.index[:5]) + [\"Predicted_Yearly_Load\"] + ['Load_Change_Percentage']\n",
    "X_daily = X_daily[selected_daily_features]\n",
    "\n",
    "# Train Daily Model\n",
    "X_train_daily, X_test_daily, y_train_daily, y_test_daily = train_test_split(X_daily, y_daily, test_size=0.2, random_state=42)\n",
    "X_train_scaled_daily = scaler.fit_transform(X_train_daily)\n",
    "X_test_scaled_daily = scaler.transform(X_test_daily)\n",
    "\n",
    "model_daily = RandomForestRegressor(n_estimators=100, max_depth=10, random_state=42)\n",
    "model_daily.fit(X_train_scaled_daily, y_train_daily)\n",
    "y_pred_daily = model_daily.predict(X_test_scaled_daily)\n",
    "\n",
    "# Evaluate\n",
    "print(\"Daily Model Performance:\")\n",
    "print(f\"MAE: {mean_absolute_error(y_test_daily, y_pred_daily)}, MSE: {mean_squared_error(y_test_daily, y_pred_daily)}, R^2: {r2_score(y_test_daily, y_pred_daily)}, MAPE: {np.mean(np.abs((y_test_daily - y_pred_daily) / y_test_daily)) * 100}\")"
   ]
  },
  {
   "cell_type": "code",
   "execution_count": 52,
   "id": "c73a2569-836d-447c-bf63-c044fd91af01",
   "metadata": {},
   "outputs": [
    {
     "name": "stdout",
     "output_type": "stream",
     "text": [
      "Daily Model Performance:\n",
      "MAE: 4054.926058536178, MSE: 41883180.43429012, R^2: 0.9607857622764568, MAPE: 1.3678016579968977\n"
     ]
    }
   ],
   "source": [
    "## Stage 2: Daily Forecasting\n",
    "daily_features = daily_data.drop(columns=[\"loadConsumption\"])\n",
    "daily_target = \"loadConsumption\"\n",
    "X_daily = daily_features\n",
    "y_daily = daily_data[daily_target]\n",
    "\n",
    "# Compute feature importance\n",
    "daily_feature_importance = feature_importance_rfa(X_daily, y_daily)\n",
    "selected_daily_features = list(daily_feature_importance.index[:5])\n",
    "\n",
    "# Train Daily Model\n",
    "X_train_daily, X_test_daily, y_train_daily, y_test_daily = train_test_split(X_daily, y_daily, test_size=0.2, random_state=42)\n",
    "X_train_scaled_daily = scaler.fit_transform(X_train_daily)\n",
    "X_test_scaled_daily = scaler.transform(X_test_daily)\n",
    "\n",
    "model_daily = RandomForestRegressor(n_estimators=100, max_depth=10, random_state=42)\n",
    "model_daily.fit(X_train_scaled_daily, y_train_daily)\n",
    "y_pred_daily = model_daily.predict(X_test_scaled_daily)\n",
    "\n",
    "# Evaluate\n",
    "print(\"Daily Model Performance:\")\n",
    "print(f\"MAE: {mean_absolute_error(y_test_daily, y_pred_daily)}, MSE: {mean_squared_error(y_test_daily, y_pred_daily)}, R^2: {r2_score(y_test_daily, y_pred_daily)}, MAPE: {np.mean(np.abs((y_test_daily - y_pred_daily) / y_test_daily)) * 100}\")"
   ]
  },
  {
   "cell_type": "code",
   "execution_count": 53,
   "id": "806b6dc9-6cbc-4a4d-9757-6a55c4bc4e1c",
   "metadata": {
    "scrolled": true
   },
   "outputs": [
    {
     "data": {
      "image/png": "[encoded data removed]",
      "text/plain": [
       "<Figure size 1200x600 with 1 Axes>"
      ]
     },
     "metadata": {},
     "output_type": "display_data"
    }
   ],
   "source": [
    "# Visualization\n",
    "plt.figure(figsize=(12,6))\n",
    "plt.plot(y_test_daily.values, label=\"Actual\", alpha=0.7)\n",
    "plt.plot(y_pred_daily, label=\"Predicted\", alpha=0.7)\n",
    "plt.legend()\n",
    "plt.title(\"Daily Load Consumption Prediction\")\n",
    "plt.show()\n"
   ]
  }
 ],
 "metadata": {
  "kernelspec": {
   "display_name": "Python 3 (ipykernel)",
   "language": "python",
   "name": "python3"
  },
  "language_info": {
   "codemirror_mode": {
    "name": "ipython",
    "version": 3
   },
   "file_extension": ".py",
   "mimetype": "text/x-python",
   "name": "python",
   "nbconvert_exporter": "python",
   "pygments_lexer": "ipython3",
   "version": "3.11.5"
  }
 },
 "nbformat": 4,
 "nbformat_minor": 5
}
