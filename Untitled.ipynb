{
 "cells": [
  {
   "cell_type": "code",
   "execution_count": 1,
   "id": "2ea480e3-c327-439c-9fe5-27bdb94e799d",
   "metadata": {},
   "outputs": [
    {
     "name": "stderr",
     "output_type": "stream",
     "text": [
      "Importing plotly failed. Interactive plots will not work.\n"
     ]
    }
   ],
   "source": [
    "import os\n",
    "import numpy as np\n",
    "import pandas as pd\n",
    "import matplotlib.pyplot as plt\n",
    "from sklearn.preprocessing import MinMaxScaler\n",
    "from sklearn.model_selection import train_test_split\n",
    "from sklearn.linear_model import LinearRegression\n",
    "from sklearn.metrics import mean_squared_error\n",
    "from prophet import Prophet\n",
    "import warnings\n",
    "import math\n",
    "from math import sqrt\n",
    "import time\n",
    "warnings.filterwarnings(\"ignore\")"
   ]
  },
  {
   "cell_type": "markdown",
   "id": "6e1590e7-5f08-4608-9a42-41e3ef84b1f8",
   "metadata": {},
   "source": [
    "## 1. Load consumption data"
   ]
  },
  {
   "cell_type": "markdown",
   "id": "862e24ec-d51b-4d20-9519-4ad40a21a868",
   "metadata": {},
   "source": [
    "|Data                |Granularity |Year range|Source |\n",
    "|--------------------|------------|----------|-------|\n",
    "|Load consumption    |hourly      |2006-2023 |ENTSO-E|"
   ]
  },
  {
   "cell_type": "code",
   "execution_count": 3,
   "id": "bbff3978-a26e-4d18-8ce6-7d3e1396f7b7",
   "metadata": {},
   "outputs": [
    {
     "name": "stdout",
     "output_type": "stream",
     "text": [
      "<class 'pandas.core.frame.DataFrame'>\n",
      "RangeIndex: 157772 entries, 0 to 157771\n",
      "Data columns (total 5 columns):\n",
      " #   Column           Non-Null Count   Dtype  \n",
      "---  ------           --------------   -----  \n",
      " 0   loadConsumption  157772 non-null  float64\n",
      " 1   date             157772 non-null  object \n",
      " 2   datetime         157772 non-null  object \n",
      " 3   Hour             157772 non-null  int64  \n",
      " 4   Year             157772 non-null  int64  \n",
      "dtypes: float64(1), int64(2), object(2)\n",
      "memory usage: 6.0+ MB\n"
     ]
    },
    {
     "data": {
      "text/plain": [
       "(None,\n",
       "    loadConsumption        date             datetime  Hour  Year\n",
       " 0          10215.0  2006-01-01  2005-12-31 23:00:00     0  2006\n",
       " 1           9979.0  2006-01-01  2006-01-01 00:00:00     1  2006\n",
       " 2           9460.0  2006-01-01  2006-01-01 01:00:00     2  2006\n",
       " 3           8833.0  2006-01-01  2006-01-01 02:00:00     3  2006\n",
       " 4           8525.0  2006-01-01  2006-01-01 03:00:00     4  2006)"
      ]
     },
     "execution_count": 3,
     "metadata": {},
     "output_type": "execute_result"
    }
   ],
   "source": [
    "# Load the dataset to explore trends and patterns\n",
    "data_path = 'loadConsumption/data_2006_2023.csv'\n",
    "data = pd.read_csv(data_path)\n",
    "\n",
    "# Display basic information about the dataset\n",
    "data.info(), data.head()"
   ]
  },
  {
   "cell_type": "code",
   "execution_count": null,
   "id": "64c399ee-cf3f-480f-b507-a4ea415bdc79",
   "metadata": {},
   "outputs": [],
   "source": []
  }
 ],
 "metadata": {
  "kernelspec": {
   "display_name": "Python 3 (ipykernel)",
   "language": "python",
   "name": "python3"
  },
  "language_info": {
   "codemirror_mode": {
    "name": "ipython",
    "version": 3
   },
   "file_extension": ".py",
   "mimetype": "text/x-python",
   "name": "python",
   "nbconvert_exporter": "python",
   "pygments_lexer": "ipython3",
   "version": "3.11.5"
  }
 },
 "nbformat": 4,
 "nbformat_minor": 5
}
